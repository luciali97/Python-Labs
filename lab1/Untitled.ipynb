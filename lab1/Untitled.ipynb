{
 "cells": [
  {
   "cell_type": "code",
   "execution_count": 1,
   "metadata": {},
   "outputs": [],
   "source": [
    "import lab\n",
    "\n",
    "import test"
   ]
  },
  {
   "cell_type": "code",
   "execution_count": 16,
   "metadata": {},
   "outputs": [],
   "source": [
    "%run lab.py"
   ]
  },
  {
   "cell_type": "code",
   "execution_count": 15,
   "metadata": {},
   "outputs": [
    {
     "name": "stderr",
     "output_type": "stream",
     "text": [
      "test_blur (__main__.TestFilters) ... ok\n",
      "test_blur_2 (__main__.TestFilters) ... ok\n",
      "test_blur_3 (__main__.TestFilters) ... ok\n",
      "test_edges (__main__.TestFilters) ... ok\n",
      "test_edges_2 (__main__.TestFilters) ... ok\n",
      "test_sharpen (__main__.TestFilters) ... ok\n",
      "test_load (__main__.TestImage) ... ok\n",
      "test_invert_1 (__main__.TestInvert) ... ok\n",
      "test_invert_2 (__main__.TestInvert) ... ok\n",
      "test_invert_images (__main__.TestInvert) ... ok\n",
      "\n",
      "----------------------------------------------------------------------\n",
      "Ran 10 tests in 42.492s\n",
      "\n",
      "OK\n"
     ]
    }
   ],
   "source": [
    "%run test.py"
   ]
  },
  {
   "cell_type": "code",
   "execution_count": null,
   "metadata": {},
   "outputs": [],
   "source": []
  }
 ],
 "metadata": {
  "kernelspec": {
   "display_name": "Python 3",
   "language": "python",
   "name": "python3"
  },
  "language_info": {
   "codemirror_mode": {
    "name": "ipython",
    "version": 3
   },
   "file_extension": ".py",
   "mimetype": "text/x-python",
   "name": "python",
   "nbconvert_exporter": "python",
   "pygments_lexer": "ipython3",
   "version": "3.6.5"
  }
 },
 "nbformat": 4,
 "nbformat_minor": 2
}
