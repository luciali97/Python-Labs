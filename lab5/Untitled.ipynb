{
 "cells": [
  {
   "cell_type": "code",
   "execution_count": null,
   "metadata": {},
   "outputs": [],
   "source": [
    "L = [('a', True), ('b', False)]\n",
    "var = 'a'\n",
    "b = False\n",
    "L.remove((var, not b))\n",
    "print( L)"
   ]
  },
  {
   "cell_type": "code",
   "execution_count": null,
   "metadata": {},
   "outputs": [],
   "source": [
    "d = {}\n",
    "print(d == {})"
   ]
  },
  {
   "cell_type": "code",
   "execution_count": 1,
   "metadata": {},
   "outputs": [
    {
     "name": "stderr",
     "output_type": "stream",
     "text": [
      "test_sudoku_1 (__main__.TestPuzzleSudoku) ... ok\n",
      "test_sudoku_2 (__main__.TestPuzzleSudoku) ... ok\n",
      "test_sudoku_3 (__main__.TestPuzzleSudoku) ... ok\n",
      "test_A_10_3_100 (__main__.TestSat) ... ok\n",
      "test_B_20_3_1000 (__main__.TestSat) ... ok\n",
      "test_C_100_10_100 (__main__.TestSat) ... ok\n",
      "test_D_1000_5_10000 (__main__.TestSat) ... ok\n",
      "test_E_1000_10_1000 (__main__.TestSat) ... ok\n",
      "test_F_1000_11_1000 (__main__.TestSat) ... ok\n",
      "test_A_3_3 (__main__.TestScheduling) ... ERROR\n",
      "test_B_10_10 (__main__.TestScheduling) ... ERROR\n",
      "test_C_10_10_unsat (__main__.TestScheduling) ... ERROR\n",
      "test_D_15_5 (__main__.TestScheduling) ... ERROR\n",
      "test_E_17_5_unsat (__main__.TestScheduling) ... ERROR\n",
      "\n",
      "======================================================================\n",
      "ERROR: test_A_3_3 (__main__.TestScheduling)\n",
      "----------------------------------------------------------------------\n",
      "Traceback (most recent call last):\n",
      "  File \"/Users/luciali/Desktop/Fall 18/6.009/lab5/test.py\", line 94, in test_A_3_3\n",
      "    self.satisfiable('3_3')\n",
      "  File \"/Users/luciali/Desktop/Fall 18/6.009/lab5/test.py\", line 65, in satisfiable\n",
      "    sched = lab.satisfying_assignment(formula)\n",
      "  File \"/Users/luciali/Desktop/Fall 18/6.009/lab5/lab.py\", line 18, in satisfying_assignment\n",
      "    if len(formula) == 0:\n",
      "TypeError: object of type 'NoneType' has no len()\n",
      "\n",
      "======================================================================\n",
      "ERROR: test_B_10_10 (__main__.TestScheduling)\n",
      "----------------------------------------------------------------------\n",
      "Traceback (most recent call last):\n",
      "  File \"/Users/luciali/Desktop/Fall 18/6.009/lab5/test.py\", line 97, in test_B_10_10\n",
      "    self.satisfiable('10_10')\n",
      "  File \"/Users/luciali/Desktop/Fall 18/6.009/lab5/test.py\", line 65, in satisfiable\n",
      "    sched = lab.satisfying_assignment(formula)\n",
      "  File \"/Users/luciali/Desktop/Fall 18/6.009/lab5/lab.py\", line 18, in satisfying_assignment\n",
      "    if len(formula) == 0:\n",
      "TypeError: object of type 'NoneType' has no len()\n",
      "\n",
      "======================================================================\n",
      "ERROR: test_C_10_10_unsat (__main__.TestScheduling)\n",
      "----------------------------------------------------------------------\n",
      "Traceback (most recent call last):\n",
      "  File \"/Users/luciali/Desktop/Fall 18/6.009/lab5/test.py\", line 100, in test_C_10_10_unsat\n",
      "    self.unsatisfiable('10_10_unsat')\n",
      "  File \"/Users/luciali/Desktop/Fall 18/6.009/lab5/test.py\", line 90, in unsatisfiable\n",
      "    copy.deepcopy(sessions)))\n",
      "  File \"/Users/luciali/Desktop/Fall 18/6.009/lab5/lab.py\", line 18, in satisfying_assignment\n",
      "    if len(formula) == 0:\n",
      "TypeError: object of type 'NoneType' has no len()\n",
      "\n",
      "======================================================================\n",
      "ERROR: test_D_15_5 (__main__.TestScheduling)\n",
      "----------------------------------------------------------------------\n",
      "Traceback (most recent call last):\n",
      "  File \"/Users/luciali/Desktop/Fall 18/6.009/lab5/test.py\", line 103, in test_D_15_5\n",
      "    self.satisfiable('15_5')\n",
      "  File \"/Users/luciali/Desktop/Fall 18/6.009/lab5/test.py\", line 65, in satisfiable\n",
      "    sched = lab.satisfying_assignment(formula)\n",
      "  File \"/Users/luciali/Desktop/Fall 18/6.009/lab5/lab.py\", line 18, in satisfying_assignment\n",
      "    if len(formula) == 0:\n",
      "TypeError: object of type 'NoneType' has no len()\n",
      "\n",
      "======================================================================\n",
      "ERROR: test_E_17_5_unsat (__main__.TestScheduling)\n",
      "----------------------------------------------------------------------\n",
      "Traceback (most recent call last):\n",
      "  File \"/Users/luciali/Desktop/Fall 18/6.009/lab5/test.py\", line 106, in test_E_17_5_unsat\n",
      "    self.unsatisfiable('17_5_unsat')\n",
      "  File \"/Users/luciali/Desktop/Fall 18/6.009/lab5/test.py\", line 90, in unsatisfiable\n",
      "    copy.deepcopy(sessions)))\n",
      "  File \"/Users/luciali/Desktop/Fall 18/6.009/lab5/lab.py\", line 18, in satisfying_assignment\n",
      "    if len(formula) == 0:\n",
      "TypeError: object of type 'NoneType' has no len()\n",
      "\n",
      "----------------------------------------------------------------------\n",
      "Ran 14 tests in 21.541s\n",
      "\n",
      "FAILED (errors=5)\n"
     ]
    }
   ],
   "source": [
    "%run test.py"
   ]
  },
  {
   "cell_type": "code",
   "execution_count": 3,
   "metadata": {},
   "outputs": [
    {
     "name": "stdout",
     "output_type": "stream",
     "text": [
      "{'1', 'd', 's'}\n"
     ]
    }
   ],
   "source": [
    "L = ['1','s','d']\n",
    "print(set(L))"
   ]
  },
  {
   "cell_type": "code",
   "execution_count": 23,
   "metadata": {},
   "outputs": [
    {
     "name": "stdout",
     "output_type": "stream",
     "text": [
      "[{'c', 'd'}, {'b', 'd'}, {'b', 'c'}, {'d', 'a'}, {'c', 'a'}, {'b', 'a'}, ['d', 'c'], ['d', 'b'], ['c', 'b'], ['d', 'a'], ['c', 'a'], ['b', 'a'], ['d', 'c'], ['d', 'b'], ['c', 'b'], ['d', 'a'], ['c', 'a'], ['b', 'a']]\n"
     ]
    }
   ],
   "source": []
  },
  {
   "cell_type": "code",
   "execution_count": 31,
   "metadata": {},
   "outputs": [
    {
     "name": "stdout",
     "output_type": "stream",
     "text": [
      "[[('Alice_kitchen', False), ('Alice_penthouse', False)], [('Alice_penthouse', False), ('Alice_basement', False)], [('Alice_kitchen', False), ('Alice_basement', False)], [('Bob_kitchen', False), ('Bob_penthouse', False)], [('Bob_penthouse', False), ('Bob_basement', False)], [('Bob_kitchen', False), ('Bob_basement', False)], [('Charles_kitchen', False), ('Charles_penthouse', False)], [('Charles_penthouse', False), ('Charles_basement', False)], [('Charles_kitchen', False), ('Charles_basement', False)], [('Dana_kitchen', False), ('Dana_penthouse', False)], [('Dana_penthouse', False), ('Dana_basement', False)], [('Dana_kitchen', False), ('Dana_basement', False)]] \n",
      "\n",
      " [[('Alice_penthouse', False), ('Alice_kitchen', False)], [('Alice_penthouse', False), ('Alice_basement', False)], [('Alice_kitchen', False), ('Alice_basement', False)], [('Bob_penthouse', False), ('Bob_kitchen', False)], [('Bob_penthouse', False), ('Bob_basement', False)], [('Bob_kitchen', False), ('Bob_basement', False)], [('Charles_penthouse', False), ('Charles_kitchen', False)], [('Charles_penthouse', False), ('Charles_basement', False)], [('Charles_kitchen', False), ('Charles_basement', False)], [('Dana_penthouse', False), ('Dana_kitchen', False)], [('Dana_penthouse', False), ('Dana_basement', False)], [('Dana_kitchen', False), ('Dana_basement', False)]]\n"
     ]
    }
   ],
   "source": [
    "student_preferences = {'Alice': {'basement', 'penthouse'},\n",
    "                            'Bob': {'kitchen'},\n",
    "                            'Charles': {'basement', 'kitchen'},\n",
    "                            'Dana': {'kitchen', 'penthouse', 'basement'}}\n",
    "\n",
    "session_capacities = {'basement': 1,\n",
    "                            'kitchen': 2,\n",
    "                            'penthouse': 4}\n",
    "\n",
    "def all_k_item_subset(L, k):\n",
    "    \"\"\"\n",
    "    return all k-item subsets of set L\n",
    "    subsets is a list of sets, where each set is a k-item subset of S\n",
    "    \"\"\"\n",
    "    if len(L) < k:\n",
    "        return []\n",
    "    if len(L) == k:\n",
    "        return [L]\n",
    "    subsets = []\n",
    "    n = len(L)\n",
    "\n",
    "    pw = 2**n\n",
    "    # return all binary numbers <= pw with k one-bits\n",
    "    iteration = []\n",
    "    for i in range(pw):\n",
    "        binary_i = bin(i)[2:]\n",
    "        num_one = 0\n",
    "        for bit in binary_i:\n",
    "            if bit == '1':\n",
    "                num_one += 1\n",
    "            if num_one > k:\n",
    "                break\n",
    "        if num_one == k:\n",
    "            iteration.append(binary_i)\n",
    "\n",
    "    for bin_str in iteration:\n",
    "        # subset is the set corresponds to bin_str\n",
    "        subset = []\n",
    "        for i in range(-1, -len(bin_str)-1, -1):\n",
    "            if bin_str[i] == '1':\n",
    "                subset.append(L[i])\n",
    "        subsets.append(subset)\n",
    "\n",
    "    return subsets\n",
    "\n",
    "def exactly_one_session(student_preferences, session_capacities):\n",
    "    cnf = []\n",
    "    for student in student_preferences:\n",
    "        L = []\n",
    "        for session in session_capacities:\n",
    "            L.append((student+'_'+session, False))\n",
    "        cnf_student = all_k_item_subset(L, 2)\n",
    "        cnf += cnf_student\n",
    "    return cnf\n",
    "expected = [[('Alice_kitchen', False), ('Alice_penthouse', False)], [('Alice_penthouse', False), ('Alice_basement', False)], [('Alice_kitchen', False), ('Alice_basement', False)],  [('Bob_kitchen', False), ('Bob_penthouse', False)], [('Bob_penthouse', False), ('Bob_basement', False)], [('Bob_kitchen', False), ('Bob_basement', False)],  [('Charles_kitchen', False), ('Charles_penthouse', False)], [('Charles_penthouse', False), ('Charles_basement', False)], [('Charles_kitchen', False), ('Charles_basement', False)],  [('Dana_kitchen', False), ('Dana_penthouse', False)], [('Dana_penthouse', False), ('Dana_basement', False)], [('Dana_kitchen', False), ('Dana_basement', False)]]\n",
    "result = exactly_one_session(student_preferences, session_capacities)\n",
    "print(expected,'\\n\\n', result)"
   ]
  },
  {
   "cell_type": "code",
   "execution_count": 25,
   "metadata": {},
   "outputs": [
    {
     "name": "stdout",
     "output_type": "stream",
     "text": [
      "[['d', 'c'], ['d', 'b'], ['c', 'b'], ['d', 'a'], ['c', 'a'], ['b', 'a']]\n"
     ]
    }
   ],
   "source": [
    "    L = ['a','b','c','d']\n",
    "    n = len(L)\n",
    "    k = 2\n",
    "    pw = 2**n\n",
    "    subsets = []\n",
    "    # return all binary numbers <= pw with k one-bits\n",
    "    iteration = []\n",
    "    for i in range(pw):\n",
    "        binary_i = bin(i)[2:]\n",
    "        num_one = 0\n",
    "        for bit in binary_i:\n",
    "            if bit == '1':\n",
    "                num_one += 1\n",
    "            if num_one > k:\n",
    "                break\n",
    "        if num_one == k:\n",
    "            iteration.append(binary_i)\n",
    "\n",
    "    for bin_str in iteration:\n",
    "        # subset is the set corresponds to bin_str\n",
    "        subset = []\n",
    "        for i in range(-1, -len(bin_str)-1, -1):\n",
    "            if bin_str[i] == '1':\n",
    "                subset.append(L[i])\n",
    "        subsets.append(subset)\n",
    "    \n",
    "    print(subsets)\n"
   ]
  },
  {
   "cell_type": "code",
   "execution_count": null,
   "metadata": {},
   "outputs": [],
   "source": []
  }
 ],
 "metadata": {
  "kernelspec": {
   "display_name": "Python 3",
   "language": "python",
   "name": "python3"
  },
  "language_info": {
   "codemirror_mode": {
    "name": "ipython",
    "version": 3
   },
   "file_extension": ".py",
   "mimetype": "text/x-python",
   "name": "python",
   "nbconvert_exporter": "python",
   "pygments_lexer": "ipython3",
   "version": "3.6.5"
  }
 },
 "nbformat": 4,
 "nbformat_minor": 2
}
