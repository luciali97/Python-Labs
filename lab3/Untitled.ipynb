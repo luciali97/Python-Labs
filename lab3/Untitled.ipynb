{
 "cells": [
  {
   "cell_type": "code",
   "execution_count": null,
   "metadata": {
    "scrolled": true
   },
   "outputs": [],
   "source": [
    "%run server.py"
   ]
  },
  {
   "cell_type": "code",
   "execution_count": 2,
   "metadata": {},
   "outputs": [
    {
     "name": "stderr",
     "output_type": "stream",
     "text": [
      "test_dig (__main__.TestDig) ... ok\n",
      "test_all_doc_strings_exist (__main__.TestDocTests)\n",
      "Checking if docstrings have been written for everything in lab.py ... ok\n",
      "test_doctests_run (__main__.TestDocTests)\n",
      "Checking to see if all lab doctests run successfully ... ok\n",
      "test_integration_1 (__main__.TestIntegration) ... ok\n",
      "test_integration_2 (__main__.TestIntegration) ... ok\n",
      "test_integration_3 (__main__.TestIntegration) ... ok\n",
      "test_newlargegame (__main__.TestNewGame)\n",
      "Testing new_game on a medium board ... ok\n",
      "test_newmediumgame (__main__.TestNewGame)\n",
      "Testing new_game on a medium board ... ok\n",
      "test_newsmallgame (__main__.TestNewGame)\n",
      "Testing new_game on a small board ... ok\n",
      "test_cooef (__main__.TestNewTests) ... ok\n",
      "test_dig_nonzero (__main__.TestNewTests) ... ok\n",
      "test_dig_victory (__main__.TestNewTests) ... ok\n",
      "test_dig_zero (__main__.TestNewTests) ... ok\n",
      "test_height_width (__main__.TestNewTests) ... ok\n",
      "test_init_board (__main__.TestNewTests) ... ok\n",
      "test_mask (__main__.TestNewTests) ... ok\n",
      "test_victory_1 (__main__.TestNewTests) ... ok\n",
      "test_render (__main__.TestRender)\n",
      "Testing render on a small board ... ok\n",
      "test_asciismall (__main__.TestRenderAscii)\n",
      "Testing render_ascii on a small 2d board ... ok\n",
      "test_asciixray (__main__.TestRenderAscii)\n",
      "Testing render_ascii on a small 2d board with xray ... ok\n",
      "\n",
      "----------------------------------------------------------------------\n",
      "Ran 20 tests in 0.387s\n",
      "\n",
      "OK\n"
     ]
    }
   ],
   "source": [
    "%run test.py"
   ]
  },
  {
   "cell_type": "code",
   "execution_count": 1,
   "metadata": {},
   "outputs": [
    {
     "name": "stdout",
     "output_type": "stream",
     "text": [
      "1\n"
     ]
    }
   ],
   "source": [
    "%run lab.py"
   ]
  },
  {
   "cell_type": "code",
   "execution_count": null,
   "metadata": {},
   "outputs": [],
   "source": []
  }
 ],
 "metadata": {
  "kernelspec": {
   "display_name": "Python 3",
   "language": "python",
   "name": "python3"
  },
  "language_info": {
   "codemirror_mode": {
    "name": "ipython",
    "version": 3
   },
   "file_extension": ".py",
   "mimetype": "text/x-python",
   "name": "python",
   "nbconvert_exporter": "python",
   "pygments_lexer": "ipython3",
   "version": "3.6.5"
  }
 },
 "nbformat": 4,
 "nbformat_minor": 2
}
